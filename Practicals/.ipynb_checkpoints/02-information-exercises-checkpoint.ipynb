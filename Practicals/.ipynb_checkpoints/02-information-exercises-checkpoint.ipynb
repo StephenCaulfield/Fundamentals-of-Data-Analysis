{
 "cells": [
  {
   "cell_type": "code",
   "execution_count": null,
   "id": "d9996dc2",
   "metadata": {},
   "outputs": [],
   "source": [
    "Log 0 is undefined as you can never get 0 by raising it to the power of anything, therefore Log 0 does not exist.\n",
    "i.e. Logb(0) = a > 0 > b^a"
   ]
  }
 ],
 "metadata": {
  "kernelspec": {
   "display_name": "Python 3 (ipykernel)",
   "language": "python",
   "name": "python3"
  },
  "language_info": {
   "codemirror_mode": {
    "name": "ipython",
    "version": 3
   },
   "file_extension": ".py",
   "mimetype": "text/x-python",
   "name": "python",
   "nbconvert_exporter": "python",
   "pygments_lexer": "ipython3",
   "version": "3.11.1"
  }
 },
 "nbformat": 4,
 "nbformat_minor": 5
}
