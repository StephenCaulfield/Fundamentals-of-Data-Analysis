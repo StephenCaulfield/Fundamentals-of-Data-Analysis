{
 "cells": [
  {
   "attachments": {},
   "cell_type": "markdown",
   "id": "c93bb7ca",
   "metadata": {},
   "source": [
    "(10 * 9 * 8 * 7) / (4 * 3 * 2 * 1) divides into 210\n",
    "meaning there is 210 outcomes of exactly 4 heads.\n",
    "The formula is called the combination formula and it is C(n,r) = n!/(r!(n-r)1)\n",
    "It is always a positive whole number as you are counting the amount of instances of a case, you cannot have a half case or a  negative number of cases"
   ]
  }
 ],
 "metadata": {
  "kernelspec": {
   "display_name": "Python 3 (ipykernel)",
   "language": "python",
   "name": "python3"
  },
  "language_info": {
   "codemirror_mode": {
    "name": "ipython",
    "version": 3
   },
   "file_extension": ".py",
   "mimetype": "text/x-python",
   "name": "python",
   "nbconvert_exporter": "python",
   "pygments_lexer": "ipython3",
   "version": "3.10.5"
  }
 },
 "nbformat": 4,
 "nbformat_minor": 5
}
