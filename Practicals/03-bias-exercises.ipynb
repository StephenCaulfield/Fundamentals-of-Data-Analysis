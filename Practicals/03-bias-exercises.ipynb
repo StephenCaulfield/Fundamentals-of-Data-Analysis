{
 "cells": [
  {
   "cell_type": "markdown",
   "id": "025157fc",
   "metadata": {},
   "source": [
    "# Exercise 1"
   ]
  },
  {
   "cell_type": "markdown",
   "id": "cd4b8638",
   "metadata": {},
   "source": [
    "1. Confirmation Bias: This is the bias one holds when searching out information that exclusive approves or confirms one preconceived notions. This can be very common in political biases or biases that relate to ones character/ personality.\n",
    "E.g. Purposefully only seeking out left or right wing organisations when forming a political opinion."
   ]
  },
  {
   "cell_type": "markdown",
   "id": "61d5a565",
   "metadata": {},
   "source": [
    "2. Hindsight Bias: This bias is informed by events that have taken place in the past, usually used to claim that you held the correct position on an event before said event ever happened.\n",
    "E.g. Claiming that you knew Argentina would win the world cup after they won it. You might have believed otherwise beforehand."
   ]
  },
  {
   "cell_type": "markdown",
   "id": "b45250a8",
   "metadata": {},
   "source": [
    "3.  Actor-Observer Bias: This type of bias is when one attributes actions of an event happening to them to some variable in said event. E.g. \"I did not do well in that exam because I was very tired\". This is not factually correct but it is a form of rationalisation on the persons part to explain a poor performance."
   ]
  },
  {
   "cell_type": "markdown",
   "id": "cf0feea4",
   "metadata": {},
   "source": [
    "# Exercise 2"
   ]
  },
  {
   "cell_type": "code",
   "execution_count": 8,
   "id": "d26fc6f3",
   "metadata": {},
   "outputs": [
    {
     "name": "stdout",
     "output_type": "stream",
     "text": [
      "Mean: 15.0\n",
      "Standard Deviation: 7.0710678118654755\n"
     ]
    }
   ],
   "source": [
    "import numpy as np\n",
    "dataset=[5, 10, 15, 20, 25]\n",
    "print('Mean:', np.mean(dataset))\n",
    "print('Standard Deviation:', np.std(dataset))"
   ]
  },
  {
   "cell_type": "code",
   "execution_count": 5,
   "id": "68edda70",
   "metadata": {},
   "outputs": [
    {
     "name": "stdout",
     "output_type": "stream",
     "text": [
      "Mean: 10.0\n",
      "Standard Deviation: 4.08248290463863\n"
     ]
    }
   ],
   "source": [
    "dataset=[5, 10, 15]\n",
    "print('Mean:', np.mean(dataset))\n",
    "print('Standard Deviation(Small set):', np.std(dataset))"
   ]
  },
  {
   "cell_type": "markdown",
   "id": "402e101f",
   "metadata": {},
   "source": [
    "The standard deviation works with a smaller set of numbers as the result will be lower due to there being less variables causing it to deviate more from the mean.\n",
    "In the above example the larger array, has a larger Standard Deviation, while the smaller array has a lower Standard Deviation."
   ]
  }
 ],
 "metadata": {
  "kernelspec": {
   "display_name": "Python 3 (ipykernel)",
   "language": "python",
   "name": "python3"
  },
  "language_info": {
   "codemirror_mode": {
    "name": "ipython",
    "version": 3
   },
   "file_extension": ".py",
   "mimetype": "text/x-python",
   "name": "python",
   "nbconvert_exporter": "python",
   "pygments_lexer": "ipython3",
   "version": "3.11.1"
  }
 },
 "nbformat": 4,
 "nbformat_minor": 5
}
