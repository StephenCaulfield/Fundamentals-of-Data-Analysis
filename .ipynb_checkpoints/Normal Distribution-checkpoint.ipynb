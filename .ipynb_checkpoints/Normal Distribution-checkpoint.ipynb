{
 "cells": [
  {
   "cell_type": "markdown",
   "id": "c11cc5b8",
   "metadata": {},
   "source": [
    "<h1 align = center>The Normal Distribution</h1>\n",
    "<h2 align = center>Stephen Caulfield</h2>\n",
    "<h2 align = center>G00398240</h2>"
   ]
  },
  {
   "cell_type": "markdown",
   "id": "313b763c",
   "metadata": {},
   "source": [
    "<img src=\"https://t4.ftcdn.net/jpg/03/20/99/21/360_F_320992188_n3JazLOKUrlTWOyUsIYilVHB2LTpiP8L.jpg\" style=\"width:250px;height:200px;\" align = right>\n",
    "\n",
    "<p>The Normal distribution, also known as the Gaussian distribution is a type of continuous probability distribution for  a real valued random variable(A number that can have arbitrarily small values that go into long decimal counts).</p>\n",
    "\n",
    "<p>The Normal Distribution is also commonly called the Bell Curve, however the proves unintuitive as there are many distributions that have a bell shape to them, potentially causing confusion with them</p>\n",
    "\n",
    "<p>Normal distributions are often used in the field on natural sciences, such as for measurements for heights, widths and sizes of different creatures or plants, such as with the popular data set \"Fisher's Iris Data Set\".</p>"
   ]
  },
  {
   "cell_type": "markdown",
   "id": "ba8c1974",
   "metadata": {},
   "source": [
    "<p>Here I am importing the data sets that will be used for this Notebook</p>"
   ]
  },
  {
   "cell_type": "code",
   "execution_count": 4,
   "id": "5ca7ee81",
   "metadata": {},
   "outputs": [],
   "source": [
    "import math\n",
    "import matplotlib.pyplot as plt\n",
    "import numpy as np"
   ]
  },
  {
   "cell_type": "markdown",
   "id": "29012f8d",
   "metadata": {},
   "source": [
    "<p>Below I have written a small blurb of code in python to visualise a Normal distribution. I use Numpy to create the set of numbers and I use Matplotlib to create the histogram.</p>"
   ]
  },
  {
   "cell_type": "code",
   "execution_count": 9,
   "id": "1010eaa3",
   "metadata": {},
   "outputs": [
    {
     "data": {
      "image/png": "[encoded data removed]",
      "text/plain": [
       "<Figure size 640x480 with 1 Axes>"
      ]
     },
     "metadata": {},
     "output_type": "display_data"
    }
   ],
   "source": [
    "norm_dist = np.random.normal(loc=0, scale=1, size=10000)\n",
    "\n",
    "plt.hist(norm_dist, bins=1000)\n",
    "plt.show();"
   ]
  },
  {
   "cell_type": "markdown",
   "id": "dc323153",
   "metadata": {},
   "source": [
    "<p>As you can see here, the graph forms a curved or \"bell\" shape to it, with some outliers in area, however that is to be expected with random data.</p>\n",
    "\n",
    "<p>There are two characteristics that determine how the curve is formed. Those being:</p>\n",
    "<ul>\n",
    "<li> The mean of the range. This is signified by the Greek symbol \"μ\" or Mu as it is pronounced. This is represented by \"loc\" in the Numpy normal function</li>\n",
    "<li> The Standard Deviation which is signified by  the Greek Symbol \"σ\" or Sigma as it is pronounced. This is represented by \"scale\" in the Numpy normal function</li>\n",
    "   </ul>"
   ]
  },
  {
   "cell_type": "code",
   "execution_count": null,
   "id": "c48caa12",
   "metadata": {},
   "outputs": [],
   "source": []
  }
 ],
 "metadata": {
  "kernelspec": {
   "display_name": "Python 3 (ipykernel)",
   "language": "python",
   "name": "python3"
  },
  "language_info": {
   "codemirror_mode": {
    "name": "ipython",
    "version": 3
   },
   "file_extension": ".py",
   "mimetype": "text/x-python",
   "name": "python",
   "nbconvert_exporter": "python",
   "pygments_lexer": "ipython3",
   "version": "3.11.1"
  }
 },
 "nbformat": 4,
 "nbformat_minor": 5
}
